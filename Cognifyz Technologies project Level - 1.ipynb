{
 "cells": [
  {
   "cell_type": "markdown",
   "id": "80a9385b",
   "metadata": {},
   "source": [
    "# Level - 1   Task - 1 "
   ]
  },
  {
   "cell_type": "code",
   "execution_count": 1,
   "id": "1b773475",
   "metadata": {},
   "outputs": [],
   "source": [
    "import numpy as np\n",
    "import pandas as pd\n",
    "import matplotlib.pyplot as plt\n",
    "import seaborn as sns"
   ]
  },
  {
   "cell_type": "code",
   "execution_count": 2,
   "id": "fdcba039",
   "metadata": {},
   "outputs": [],
   "source": [
    "df = pd.read_csv(\"cognifyz.csv\")"
   ]
  },
  {
   "cell_type": "code",
   "execution_count": 3,
   "id": "d700949d",
   "metadata": {},
   "outputs": [
    {
     "data": {
      "text/html": [
       "<div>\n",
       "<style scoped>\n",
       "    .dataframe tbody tr th:only-of-type {\n",
       "        vertical-align: middle;\n",
       "    }\n",
       "\n",
       "    .dataframe tbody tr th {\n",
       "        vertical-align: top;\n",
       "    }\n",
       "\n",
       "    .dataframe thead th {\n",
       "        text-align: right;\n",
       "    }\n",
       "</style>\n",
       "<table border=\"1\" class=\"dataframe\">\n",
       "  <thead>\n",
       "    <tr style=\"text-align: right;\">\n",
       "      <th></th>\n",
       "      <th>Restaurant ID</th>\n",
       "      <th>Restaurant Name</th>\n",
       "      <th>Country Code</th>\n",
       "      <th>City</th>\n",
       "      <th>Address</th>\n",
       "      <th>Locality</th>\n",
       "      <th>Locality Verbose</th>\n",
       "      <th>Longitude</th>\n",
       "      <th>Latitude</th>\n",
       "      <th>Cuisines</th>\n",
       "      <th>...</th>\n",
       "      <th>Currency</th>\n",
       "      <th>Has Table booking</th>\n",
       "      <th>Has Online delivery</th>\n",
       "      <th>Is delivering now</th>\n",
       "      <th>Switch to order menu</th>\n",
       "      <th>Price range</th>\n",
       "      <th>Aggregate rating</th>\n",
       "      <th>Rating color</th>\n",
       "      <th>Rating text</th>\n",
       "      <th>Votes</th>\n",
       "    </tr>\n",
       "  </thead>\n",
       "  <tbody>\n",
       "    <tr>\n",
       "      <th>0</th>\n",
       "      <td>6317637</td>\n",
       "      <td>Le Petit Souffle</td>\n",
       "      <td>162</td>\n",
       "      <td>Makati City</td>\n",
       "      <td>Third Floor, Century City Mall, Kalayaan Avenu...</td>\n",
       "      <td>Century City Mall, Poblacion, Makati City</td>\n",
       "      <td>Century City Mall, Poblacion, Makati City, Mak...</td>\n",
       "      <td>121.027535</td>\n",
       "      <td>14.565443</td>\n",
       "      <td>French, Japanese, Desserts</td>\n",
       "      <td>...</td>\n",
       "      <td>Botswana Pula(P)</td>\n",
       "      <td>Yes</td>\n",
       "      <td>No</td>\n",
       "      <td>No</td>\n",
       "      <td>No</td>\n",
       "      <td>3</td>\n",
       "      <td>4.8</td>\n",
       "      <td>Dark Green</td>\n",
       "      <td>Excellent</td>\n",
       "      <td>314</td>\n",
       "    </tr>\n",
       "    <tr>\n",
       "      <th>1</th>\n",
       "      <td>6304287</td>\n",
       "      <td>Izakaya Kikufuji</td>\n",
       "      <td>162</td>\n",
       "      <td>Makati City</td>\n",
       "      <td>Little Tokyo, 2277 Chino Roces Avenue, Legaspi...</td>\n",
       "      <td>Little Tokyo, Legaspi Village, Makati City</td>\n",
       "      <td>Little Tokyo, Legaspi Village, Makati City, Ma...</td>\n",
       "      <td>121.014101</td>\n",
       "      <td>14.553708</td>\n",
       "      <td>Japanese</td>\n",
       "      <td>...</td>\n",
       "      <td>Botswana Pula(P)</td>\n",
       "      <td>Yes</td>\n",
       "      <td>No</td>\n",
       "      <td>No</td>\n",
       "      <td>No</td>\n",
       "      <td>3</td>\n",
       "      <td>4.5</td>\n",
       "      <td>Dark Green</td>\n",
       "      <td>Excellent</td>\n",
       "      <td>591</td>\n",
       "    </tr>\n",
       "    <tr>\n",
       "      <th>2</th>\n",
       "      <td>6300002</td>\n",
       "      <td>Heat - Edsa Shangri-La</td>\n",
       "      <td>162</td>\n",
       "      <td>Mandaluyong City</td>\n",
       "      <td>Edsa Shangri-La, 1 Garden Way, Ortigas, Mandal...</td>\n",
       "      <td>Edsa Shangri-La, Ortigas, Mandaluyong City</td>\n",
       "      <td>Edsa Shangri-La, Ortigas, Mandaluyong City, Ma...</td>\n",
       "      <td>121.056831</td>\n",
       "      <td>14.581404</td>\n",
       "      <td>Seafood, Asian, Filipino, Indian</td>\n",
       "      <td>...</td>\n",
       "      <td>Botswana Pula(P)</td>\n",
       "      <td>Yes</td>\n",
       "      <td>No</td>\n",
       "      <td>No</td>\n",
       "      <td>No</td>\n",
       "      <td>4</td>\n",
       "      <td>4.4</td>\n",
       "      <td>Green</td>\n",
       "      <td>Very Good</td>\n",
       "      <td>270</td>\n",
       "    </tr>\n",
       "    <tr>\n",
       "      <th>3</th>\n",
       "      <td>6318506</td>\n",
       "      <td>Ooma</td>\n",
       "      <td>162</td>\n",
       "      <td>Mandaluyong City</td>\n",
       "      <td>Third Floor, Mega Fashion Hall, SM Megamall, O...</td>\n",
       "      <td>SM Megamall, Ortigas, Mandaluyong City</td>\n",
       "      <td>SM Megamall, Ortigas, Mandaluyong City, Mandal...</td>\n",
       "      <td>121.056475</td>\n",
       "      <td>14.585318</td>\n",
       "      <td>Japanese, Sushi</td>\n",
       "      <td>...</td>\n",
       "      <td>Botswana Pula(P)</td>\n",
       "      <td>No</td>\n",
       "      <td>No</td>\n",
       "      <td>No</td>\n",
       "      <td>No</td>\n",
       "      <td>4</td>\n",
       "      <td>4.9</td>\n",
       "      <td>Dark Green</td>\n",
       "      <td>Excellent</td>\n",
       "      <td>365</td>\n",
       "    </tr>\n",
       "    <tr>\n",
       "      <th>4</th>\n",
       "      <td>6314302</td>\n",
       "      <td>Sambo Kojin</td>\n",
       "      <td>162</td>\n",
       "      <td>Mandaluyong City</td>\n",
       "      <td>Third Floor, Mega Atrium, SM Megamall, Ortigas...</td>\n",
       "      <td>SM Megamall, Ortigas, Mandaluyong City</td>\n",
       "      <td>SM Megamall, Ortigas, Mandaluyong City, Mandal...</td>\n",
       "      <td>121.057508</td>\n",
       "      <td>14.584450</td>\n",
       "      <td>Japanese, Korean</td>\n",
       "      <td>...</td>\n",
       "      <td>Botswana Pula(P)</td>\n",
       "      <td>Yes</td>\n",
       "      <td>No</td>\n",
       "      <td>No</td>\n",
       "      <td>No</td>\n",
       "      <td>4</td>\n",
       "      <td>4.8</td>\n",
       "      <td>Dark Green</td>\n",
       "      <td>Excellent</td>\n",
       "      <td>229</td>\n",
       "    </tr>\n",
       "    <tr>\n",
       "      <th>...</th>\n",
       "      <td>...</td>\n",
       "      <td>...</td>\n",
       "      <td>...</td>\n",
       "      <td>...</td>\n",
       "      <td>...</td>\n",
       "      <td>...</td>\n",
       "      <td>...</td>\n",
       "      <td>...</td>\n",
       "      <td>...</td>\n",
       "      <td>...</td>\n",
       "      <td>...</td>\n",
       "      <td>...</td>\n",
       "      <td>...</td>\n",
       "      <td>...</td>\n",
       "      <td>...</td>\n",
       "      <td>...</td>\n",
       "      <td>...</td>\n",
       "      <td>...</td>\n",
       "      <td>...</td>\n",
       "      <td>...</td>\n",
       "      <td>...</td>\n",
       "    </tr>\n",
       "    <tr>\n",
       "      <th>9546</th>\n",
       "      <td>5915730</td>\n",
       "      <td>Naml۱ Gurme</td>\n",
       "      <td>208</td>\n",
       "      <td>��stanbul</td>\n",
       "      <td>Kemanke�� Karamustafa Pa��a Mahallesi, R۱ht۱m ...</td>\n",
       "      <td>Karak�_y</td>\n",
       "      <td>Karak�_y, ��stanbul</td>\n",
       "      <td>28.977392</td>\n",
       "      <td>41.022793</td>\n",
       "      <td>Turkish</td>\n",
       "      <td>...</td>\n",
       "      <td>Turkish Lira(TL)</td>\n",
       "      <td>No</td>\n",
       "      <td>No</td>\n",
       "      <td>No</td>\n",
       "      <td>No</td>\n",
       "      <td>3</td>\n",
       "      <td>4.1</td>\n",
       "      <td>Green</td>\n",
       "      <td>Very Good</td>\n",
       "      <td>788</td>\n",
       "    </tr>\n",
       "    <tr>\n",
       "      <th>9547</th>\n",
       "      <td>5908749</td>\n",
       "      <td>Ceviz A��ac۱</td>\n",
       "      <td>208</td>\n",
       "      <td>��stanbul</td>\n",
       "      <td>Ko��uyolu Mahallesi, Muhittin ��st�_nda�� Cadd...</td>\n",
       "      <td>Ko��uyolu</td>\n",
       "      <td>Ko��uyolu, ��stanbul</td>\n",
       "      <td>29.041297</td>\n",
       "      <td>41.009847</td>\n",
       "      <td>World Cuisine, Patisserie, Cafe</td>\n",
       "      <td>...</td>\n",
       "      <td>Turkish Lira(TL)</td>\n",
       "      <td>No</td>\n",
       "      <td>No</td>\n",
       "      <td>No</td>\n",
       "      <td>No</td>\n",
       "      <td>3</td>\n",
       "      <td>4.2</td>\n",
       "      <td>Green</td>\n",
       "      <td>Very Good</td>\n",
       "      <td>1034</td>\n",
       "    </tr>\n",
       "    <tr>\n",
       "      <th>9548</th>\n",
       "      <td>5915807</td>\n",
       "      <td>Huqqa</td>\n",
       "      <td>208</td>\n",
       "      <td>��stanbul</td>\n",
       "      <td>Kuru�_e��me Mahallesi, Muallim Naci Caddesi, N...</td>\n",
       "      <td>Kuru�_e��me</td>\n",
       "      <td>Kuru�_e��me, ��stanbul</td>\n",
       "      <td>29.034640</td>\n",
       "      <td>41.055817</td>\n",
       "      <td>Italian, World Cuisine</td>\n",
       "      <td>...</td>\n",
       "      <td>Turkish Lira(TL)</td>\n",
       "      <td>No</td>\n",
       "      <td>No</td>\n",
       "      <td>No</td>\n",
       "      <td>No</td>\n",
       "      <td>4</td>\n",
       "      <td>3.7</td>\n",
       "      <td>Yellow</td>\n",
       "      <td>Good</td>\n",
       "      <td>661</td>\n",
       "    </tr>\n",
       "    <tr>\n",
       "      <th>9549</th>\n",
       "      <td>5916112</td>\n",
       "      <td>A���k Kahve</td>\n",
       "      <td>208</td>\n",
       "      <td>��stanbul</td>\n",
       "      <td>Kuru�_e��me Mahallesi, Muallim Naci Caddesi, N...</td>\n",
       "      <td>Kuru�_e��me</td>\n",
       "      <td>Kuru�_e��me, ��stanbul</td>\n",
       "      <td>29.036019</td>\n",
       "      <td>41.057979</td>\n",
       "      <td>Restaurant Cafe</td>\n",
       "      <td>...</td>\n",
       "      <td>Turkish Lira(TL)</td>\n",
       "      <td>No</td>\n",
       "      <td>No</td>\n",
       "      <td>No</td>\n",
       "      <td>No</td>\n",
       "      <td>4</td>\n",
       "      <td>4.0</td>\n",
       "      <td>Green</td>\n",
       "      <td>Very Good</td>\n",
       "      <td>901</td>\n",
       "    </tr>\n",
       "    <tr>\n",
       "      <th>9550</th>\n",
       "      <td>5927402</td>\n",
       "      <td>Walter's Coffee Roastery</td>\n",
       "      <td>208</td>\n",
       "      <td>��stanbul</td>\n",
       "      <td>Cafea��a Mahallesi, Bademalt۱ Sokak, No 21/B, ...</td>\n",
       "      <td>Moda</td>\n",
       "      <td>Moda, ��stanbul</td>\n",
       "      <td>29.026016</td>\n",
       "      <td>40.984776</td>\n",
       "      <td>Cafe</td>\n",
       "      <td>...</td>\n",
       "      <td>Turkish Lira(TL)</td>\n",
       "      <td>No</td>\n",
       "      <td>No</td>\n",
       "      <td>No</td>\n",
       "      <td>No</td>\n",
       "      <td>2</td>\n",
       "      <td>4.0</td>\n",
       "      <td>Green</td>\n",
       "      <td>Very Good</td>\n",
       "      <td>591</td>\n",
       "    </tr>\n",
       "  </tbody>\n",
       "</table>\n",
       "<p>9551 rows × 21 columns</p>\n",
       "</div>"
      ],
      "text/plain": [
       "      Restaurant ID           Restaurant Name  Country Code              City  \\\n",
       "0           6317637          Le Petit Souffle           162       Makati City   \n",
       "1           6304287          Izakaya Kikufuji           162       Makati City   \n",
       "2           6300002    Heat - Edsa Shangri-La           162  Mandaluyong City   \n",
       "3           6318506                      Ooma           162  Mandaluyong City   \n",
       "4           6314302               Sambo Kojin           162  Mandaluyong City   \n",
       "...             ...                       ...           ...               ...   \n",
       "9546        5915730               Naml۱ Gurme           208         ��stanbul   \n",
       "9547        5908749              Ceviz A��ac۱           208         ��stanbul   \n",
       "9548        5915807                     Huqqa           208         ��stanbul   \n",
       "9549        5916112               A���k Kahve           208         ��stanbul   \n",
       "9550        5927402  Walter's Coffee Roastery           208         ��stanbul   \n",
       "\n",
       "                                                Address  \\\n",
       "0     Third Floor, Century City Mall, Kalayaan Avenu...   \n",
       "1     Little Tokyo, 2277 Chino Roces Avenue, Legaspi...   \n",
       "2     Edsa Shangri-La, 1 Garden Way, Ortigas, Mandal...   \n",
       "3     Third Floor, Mega Fashion Hall, SM Megamall, O...   \n",
       "4     Third Floor, Mega Atrium, SM Megamall, Ortigas...   \n",
       "...                                                 ...   \n",
       "9546  Kemanke�� Karamustafa Pa��a Mahallesi, R۱ht۱m ...   \n",
       "9547  Ko��uyolu Mahallesi, Muhittin ��st�_nda�� Cadd...   \n",
       "9548  Kuru�_e��me Mahallesi, Muallim Naci Caddesi, N...   \n",
       "9549  Kuru�_e��me Mahallesi, Muallim Naci Caddesi, N...   \n",
       "9550  Cafea��a Mahallesi, Bademalt۱ Sokak, No 21/B, ...   \n",
       "\n",
       "                                        Locality  \\\n",
       "0      Century City Mall, Poblacion, Makati City   \n",
       "1     Little Tokyo, Legaspi Village, Makati City   \n",
       "2     Edsa Shangri-La, Ortigas, Mandaluyong City   \n",
       "3         SM Megamall, Ortigas, Mandaluyong City   \n",
       "4         SM Megamall, Ortigas, Mandaluyong City   \n",
       "...                                          ...   \n",
       "9546                                    Karak�_y   \n",
       "9547                                   Ko��uyolu   \n",
       "9548                                 Kuru�_e��me   \n",
       "9549                                 Kuru�_e��me   \n",
       "9550                                        Moda   \n",
       "\n",
       "                                       Locality Verbose   Longitude  \\\n",
       "0     Century City Mall, Poblacion, Makati City, Mak...  121.027535   \n",
       "1     Little Tokyo, Legaspi Village, Makati City, Ma...  121.014101   \n",
       "2     Edsa Shangri-La, Ortigas, Mandaluyong City, Ma...  121.056831   \n",
       "3     SM Megamall, Ortigas, Mandaluyong City, Mandal...  121.056475   \n",
       "4     SM Megamall, Ortigas, Mandaluyong City, Mandal...  121.057508   \n",
       "...                                                 ...         ...   \n",
       "9546                                Karak�_y, ��stanbul   28.977392   \n",
       "9547                               Ko��uyolu, ��stanbul   29.041297   \n",
       "9548                             Kuru�_e��me, ��stanbul   29.034640   \n",
       "9549                             Kuru�_e��me, ��stanbul   29.036019   \n",
       "9550                                    Moda, ��stanbul   29.026016   \n",
       "\n",
       "       Latitude                          Cuisines  ...          Currency  \\\n",
       "0     14.565443        French, Japanese, Desserts  ...  Botswana Pula(P)   \n",
       "1     14.553708                          Japanese  ...  Botswana Pula(P)   \n",
       "2     14.581404  Seafood, Asian, Filipino, Indian  ...  Botswana Pula(P)   \n",
       "3     14.585318                   Japanese, Sushi  ...  Botswana Pula(P)   \n",
       "4     14.584450                  Japanese, Korean  ...  Botswana Pula(P)   \n",
       "...         ...                               ...  ...               ...   \n",
       "9546  41.022793                           Turkish  ...  Turkish Lira(TL)   \n",
       "9547  41.009847   World Cuisine, Patisserie, Cafe  ...  Turkish Lira(TL)   \n",
       "9548  41.055817            Italian, World Cuisine  ...  Turkish Lira(TL)   \n",
       "9549  41.057979                   Restaurant Cafe  ...  Turkish Lira(TL)   \n",
       "9550  40.984776                              Cafe  ...  Turkish Lira(TL)   \n",
       "\n",
       "     Has Table booking Has Online delivery Is delivering now  \\\n",
       "0                  Yes                  No                No   \n",
       "1                  Yes                  No                No   \n",
       "2                  Yes                  No                No   \n",
       "3                   No                  No                No   \n",
       "4                  Yes                  No                No   \n",
       "...                ...                 ...               ...   \n",
       "9546                No                  No                No   \n",
       "9547                No                  No                No   \n",
       "9548                No                  No                No   \n",
       "9549                No                  No                No   \n",
       "9550                No                  No                No   \n",
       "\n",
       "     Switch to order menu Price range  Aggregate rating  Rating color  \\\n",
       "0                      No           3               4.8    Dark Green   \n",
       "1                      No           3               4.5    Dark Green   \n",
       "2                      No           4               4.4         Green   \n",
       "3                      No           4               4.9    Dark Green   \n",
       "4                      No           4               4.8    Dark Green   \n",
       "...                   ...         ...               ...           ...   \n",
       "9546                   No           3               4.1         Green   \n",
       "9547                   No           3               4.2         Green   \n",
       "9548                   No           4               3.7        Yellow   \n",
       "9549                   No           4               4.0         Green   \n",
       "9550                   No           2               4.0         Green   \n",
       "\n",
       "     Rating text Votes  \n",
       "0      Excellent   314  \n",
       "1      Excellent   591  \n",
       "2      Very Good   270  \n",
       "3      Excellent   365  \n",
       "4      Excellent   229  \n",
       "...          ...   ...  \n",
       "9546   Very Good   788  \n",
       "9547   Very Good  1034  \n",
       "9548        Good   661  \n",
       "9549   Very Good   901  \n",
       "9550   Very Good   591  \n",
       "\n",
       "[9551 rows x 21 columns]"
      ]
     },
     "execution_count": 3,
     "metadata": {},
     "output_type": "execute_result"
    }
   ],
   "source": [
    "df"
   ]
  },
  {
   "cell_type": "markdown",
   "id": "e4b6cdac",
   "metadata": {},
   "source": [
    "### Determine the top three most common cuisines in the dataset."
   ]
  },
  {
   "cell_type": "code",
   "execution_count": 4,
   "id": "2cd2ef34",
   "metadata": {},
   "outputs": [
    {
     "name": "stdout",
     "output_type": "stream",
     "text": [
      "Top three most common cuisines:\n",
      "North Indian    3960\n",
      "Chinese         2735\n",
      "Fast Food       1986\n",
      "dtype: int64\n"
     ]
    }
   ],
   "source": [
    "# Drop rows with missing values in 'Cuisines' column\n",
    "df_cleaned = df.dropna(subset=['Cuisines'])\n",
    "\n",
    "# Splitting the cuisines string into a list of cuisines\n",
    "cuisine_lists = df_cleaned['Cuisines'].str.split(', ')\n",
    "\n",
    "# Creating a list to store all cuisines\n",
    "all_cuisines = []\n",
    "\n",
    "# Adding all cuisines to the list\n",
    "for cuisine_list in cuisine_lists:\n",
    "    all_cuisines.extend(cuisine_list)\n",
    "\n",
    "# Converting the list to a pandas Series for easy counting\n",
    "cuisines_series = pd.Series(all_cuisines)\n",
    "\n",
    "# Counting the occurrences of each cuisine\n",
    "top_cuisines = cuisines_series.value_counts().head(3)\n",
    "\n",
    "print(\"Top three most common cuisines:\")\n",
    "print(top_cuisines)\n"
   ]
  },
  {
   "cell_type": "markdown",
   "id": "d2c0a007",
   "metadata": {},
   "source": [
    "### Calculate the percentage of restaurants that serve each of the top cuisines."
   ]
  },
  {
   "cell_type": "code",
   "execution_count": 5,
   "id": "17c4606b",
   "metadata": {},
   "outputs": [
    {
     "name": "stdout",
     "output_type": "stream",
     "text": [
      "Percentage of restaurants that serve each of the top cuisines:\n",
      "North Indian    41.500734\n",
      "Chinese         28.662754\n",
      "Fast Food       20.813247\n",
      "dtype: float64\n"
     ]
    }
   ],
   "source": [
    "# Calculate the total number of restaurants\n",
    "total_restaurants = len(df_cleaned)\n",
    "\n",
    "# Calculate the percentage of restaurants that serve each of the top cuisines\n",
    "percentage_top_cuisines = (top_cuisines / total_restaurants) * 100\n",
    "\n",
    "print(\"Percentage of restaurants that serve each of the top cuisines:\")\n",
    "print(percentage_top_cuisines)\n"
   ]
  },
  {
   "cell_type": "markdown",
   "id": "b0079ed7",
   "metadata": {},
   "source": [
    "## Level- 1   Task - 2      City Analysis"
   ]
  },
  {
   "cell_type": "markdown",
   "id": "95fd4b0b",
   "metadata": {},
   "source": [
    "### Identify the city with the highest number of restaurants in the dataset."
   ]
  },
  {
   "cell_type": "code",
   "execution_count": 6,
   "id": "c044df11",
   "metadata": {},
   "outputs": [
    {
     "name": "stdout",
     "output_type": "stream",
     "text": [
      "City with the highest number of restaurants: New Delhi\n",
      "Number of restaurants in this city: 5473\n"
     ]
    }
   ],
   "source": [
    "# Count the occurrences of each city\n",
    "city_counts = df['City'].value_counts()\n",
    "\n",
    "# Get the city with the highest number of restaurants\n",
    "city_with_most_restaurants = city_counts.idxmax()\n",
    "\n",
    "# Get the count of restaurants in the city with the highest number\n",
    "highest_restaurant_count = city_counts.max()\n",
    "\n",
    "print(\"City with the highest number of restaurants:\", city_with_most_restaurants)\n",
    "print(\"Number of restaurants in this city:\", highest_restaurant_count)\n"
   ]
  },
  {
   "cell_type": "markdown",
   "id": "1d4059df",
   "metadata": {},
   "source": [
    "### Calculate the average rating for restaurants in each city."
   ]
  },
  {
   "cell_type": "code",
   "execution_count": 7,
   "id": "80c7560b",
   "metadata": {},
   "outputs": [
    {
     "name": "stdout",
     "output_type": "stream",
     "text": [
      "Average rating for restaurants in each city:\n",
      "City\n",
      "Abu Dhabi          4.300000\n",
      "Agra               3.965000\n",
      "Ahmedabad          4.161905\n",
      "Albany             3.555000\n",
      "Allahabad          3.395000\n",
      "                     ...   \n",
      "Weirton            3.900000\n",
      "Wellington City    4.250000\n",
      "Winchester Bay     3.200000\n",
      "Yorkton            3.300000\n",
      "��stanbul          4.292857\n",
      "Name: Aggregate rating, Length: 141, dtype: float64\n"
     ]
    }
   ],
   "source": [
    "# Group the data by city and calculate the average rating for each city\n",
    "average_ratings_by_city = df.groupby('City')['Aggregate rating'].mean()\n",
    "\n",
    "print(\"Average rating for restaurants in each city:\")\n",
    "print(average_ratings_by_city)"
   ]
  },
  {
   "cell_type": "markdown",
   "id": "dfbb3b86",
   "metadata": {},
   "source": [
    "### Determine the city with the highest average rating"
   ]
  },
  {
   "cell_type": "code",
   "execution_count": 8,
   "id": "5a99d567",
   "metadata": {},
   "outputs": [
    {
     "name": "stdout",
     "output_type": "stream",
     "text": [
      "City with the highest average rating: Inner City\n",
      "Highest average rating in this city: 4.9\n"
     ]
    }
   ],
   "source": [
    "# Find the city with the highest average rating\n",
    "city_highest_avg_rating = average_ratings_by_city.idxmax()\n",
    "highest_avg_rating = average_ratings_by_city.max()\n",
    "\n",
    "print(\"City with the highest average rating:\", city_highest_avg_rating)\n",
    "print(\"Highest average rating in this city:\", highest_avg_rating)\n"
   ]
  },
  {
   "cell_type": "markdown",
   "id": "a7875de5",
   "metadata": {},
   "source": [
    "### Level- 1   Task - 3   Price Range Distribution\n"
   ]
  },
  {
   "cell_type": "markdown",
   "id": "5f8ad879",
   "metadata": {},
   "source": [
    "##### Create a histogram or bar chart to visualize the distribution of price ranges among the restaurants."
   ]
  },
  {
   "cell_type": "code",
   "execution_count": 9,
   "id": "bf244b09",
   "metadata": {},
   "outputs": [
    {
     "data": {
      "image/png": "[encoded data removed]",
      "text/plain": [
       "<Figure size 640x480 with 1 Axes>"
      ]
     },
     "metadata": {},
     "output_type": "display_data"
    }
   ],
   "source": [
    "# Extract the 'Price range' column\n",
    "price_ranges = df['Price range']\n",
    "\n",
    "# Count occurrences of each price range\n",
    "price_range_counts = price_ranges.value_counts().sort_index()\n",
    "\n",
    "# Plot the histogram or bar chart\n",
    "plt.bar(price_range_counts.index, price_range_counts.values, color='skyblue')\n",
    "\n",
    "# Customize the plot\n",
    "plt.title('Distribution of Price Ranges Among Restaurants')\n",
    "plt.xlabel('Price Range')\n",
    "plt.ylabel('Number of Restaurants')\n",
    "plt.xticks(price_range_counts.index)\n",
    "plt.grid(axis='y', linestyle='--', alpha=0.7)\n",
    "plt.show()"
   ]
  },
  {
   "cell_type": "markdown",
   "id": "317cf5a5",
   "metadata": {},
   "source": [
    "###### Calculate the percentage of restaurants in each price range category."
   ]
  },
  {
   "cell_type": "code",
   "execution_count": 10,
   "id": "a84886e2",
   "metadata": {},
   "outputs": [
    {
     "name": "stdout",
     "output_type": "stream",
     "text": [
      "Percentage of restaurants in each price range category:\n",
      "Price Range 1: 46.53%\n",
      "Price Range 2: 32.59%\n",
      "Price Range 3: 14.74%\n",
      "Price Range 4: 6.14%\n"
     ]
    }
   ],
   "source": [
    "# Calculate the total number of restaurants\n",
    "total_restaurants = len(df)\n",
    "\n",
    "# Calculate the percentage of restaurants in each price range category\n",
    "percentage_per_price_range = (price_range_counts / total_restaurants) * 100\n",
    "\n",
    "# Display the percentage of restaurants in each price range category\n",
    "print(\"Percentage of restaurants in each price range category:\")\n",
    "for price_range, percentage in percentage_per_price_range.items():\n",
    "    print(f\"Price Range {price_range}: {percentage:.2f}%\")"
   ]
  },
  {
   "cell_type": "markdown",
   "id": "ac6042f4",
   "metadata": {},
   "source": [
    "### Level - 1 Task - 4  Online Delivery"
   ]
  },
  {
   "cell_type": "markdown",
   "id": "9bfdc929",
   "metadata": {},
   "source": [
    "##### Determine the percentage of restaurants that offer online delivery."
   ]
  },
  {
   "cell_type": "code",
   "execution_count": 11,
   "id": "7d8c5363",
   "metadata": {},
   "outputs": [
    {
     "name": "stdout",
     "output_type": "stream",
     "text": [
      "Percentage of restaurants that offer online delivery: 25.66%\n"
     ]
    }
   ],
   "source": [
    "# Count the number of restaurants that offer online delivery\n",
    "online_delivery_restaurants = df['Has Online delivery'].value_counts()\n",
    "\n",
    "# Calculate the percentage of restaurants that offer online delivery\n",
    "percentage_online_delivery = (online_delivery_restaurants['Yes'] / online_delivery_restaurants.sum()) * 100\n",
    "\n",
    "print(f\"Percentage of restaurants that offer online delivery: {percentage_online_delivery:.2f}%\")\n"
   ]
  },
  {
   "cell_type": "markdown",
   "id": "75af4f58",
   "metadata": {},
   "source": [
    "##### Compare the average ratings of restaurants with and without online delivery."
   ]
  },
  {
   "cell_type": "code",
   "execution_count": 12,
   "id": "22b9b05b",
   "metadata": {},
   "outputs": [
    {
     "name": "stdout",
     "output_type": "stream",
     "text": [
      "Average ratings:\n",
      "With Online Delivery: 3.25\n",
      "Without Online Delivery: 2.47\n"
     ]
    }
   ],
   "source": [
    "# Group restaurants based on whether they offer online delivery or not\n",
    "grouped_data = df.groupby('Has Online delivery')\n",
    "\n",
    "# Calculate the average ratings for each group\n",
    "average_ratings = grouped_data['Aggregate rating'].mean()\n",
    "\n",
    "# Print the average ratings for each group\n",
    "print(\"Average ratings:\")\n",
    "print(f\"With Online Delivery: {average_ratings['Yes']:.2f}\")\n",
    "print(f\"Without Online Delivery: {average_ratings['No']:.2f}\")\n"
   ]
  },
  {
   "cell_type": "markdown",
   "id": "a212bb2a",
   "metadata": {},
   "source": [
    "# Level - 2 Task- 1"
   ]
  },
  {
   "cell_type": "markdown",
   "id": "cf6fb146",
   "metadata": {},
   "source": [
    "### Task - 1 : Restaurant Ratings"
   ]
  },
  {
   "cell_type": "code",
   "execution_count": 13,
   "id": "c3713d92",
   "metadata": {},
   "outputs": [
    {
     "data": {
      "image/png": "[encoded data removed]",
      "text/plain": [
       "<Figure size 640x480 with 1 Axes>"
      ]
     },
     "metadata": {},
     "output_type": "display_data"
    },
    {
     "name": "stdout",
     "output_type": "stream",
     "text": [
      "The most common rating range is 0.0.\n"
     ]
    }
   ],
   "source": [
    "# Extract aggregate ratings\n",
    "aggregate_ratings = df['Aggregate rating']\n",
    "\n",
    "# Plot histogram\n",
    "plt.hist(aggregate_ratings, bins=10, color='skyblue')\n",
    "\n",
    "# Customize plot\n",
    "plt.title('Distribution of Aggregate Ratings')\n",
    "plt.xlabel('Aggregate Rating')\n",
    "plt.ylabel('Frequency')\n",
    "plt.grid(axis='y', linestyle='--', alpha=0.7)\n",
    "\n",
    "# Show plot\n",
    "plt.show()\n",
    "\n",
    "# Determine the most common rating range\n",
    "most_common_range = aggregate_ratings.mode()[0]\n",
    "print(f\"The most common rating range is {most_common_range}.\")\n"
   ]
  },
  {
   "cell_type": "markdown",
   "id": "7b8f1cac",
   "metadata": {},
   "source": [
    "### Calculate the average number of votes received by restaurants."
   ]
  },
  {
   "cell_type": "code",
   "execution_count": 14,
   "id": "301fb9a1",
   "metadata": {},
   "outputs": [
    {
     "name": "stdout",
     "output_type": "stream",
     "text": [
      "Average number of votes received by restaurants: 156.91\n"
     ]
    }
   ],
   "source": [
    "# Calculate the average number of votes received by restaurants\n",
    "average_votes = df['Votes'].mean()\n",
    "print(f\"Average number of votes received by restaurants: {average_votes:.2f}\")"
   ]
  },
  {
   "cell_type": "code",
   "execution_count": null,
   "id": "118681bd",
   "metadata": {},
   "outputs": [],
   "source": []
  }
 ],
 "metadata": {
  "kernelspec": {
   "display_name": "Python 3 (ipykernel)",
   "language": "python",
   "name": "python3"
  },
  "language_info": {
   "codemirror_mode": {
    "name": "ipython",
    "version": 3
   },
   "file_extension": ".py",
   "mimetype": "text/x-python",
   "name": "python",
   "nbconvert_exporter": "python",
   "pygments_lexer": "ipython3",
   "version": "3.11.4"
  }
 },
 "nbformat": 4,
 "nbformat_minor": 5
}
